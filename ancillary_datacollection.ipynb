{
 "cells": [
  {
   "cell_type": "code",
   "execution_count": 9,
   "metadata": {},
   "outputs": [
    {
     "ename": "ModuleNotFoundError",
     "evalue": "No module named 'praw'",
     "output_type": "error",
     "traceback": [
      "\u001b[0;31m---------------------------------------------------------------------------\u001b[0m",
      "\u001b[0;31mModuleNotFoundError\u001b[0m                       Traceback (most recent call last)",
      "\u001b[0;32m<ipython-input-9-69dbf5ea3f02>\u001b[0m in \u001b[0;36m<module>\u001b[0;34m\u001b[0m\n\u001b[1;32m     10\u001b[0m \u001b[0;32mimport\u001b[0m \u001b[0mmatplotlib\u001b[0m\u001b[0;34m\u001b[0m\u001b[0;34m\u001b[0m\u001b[0m\n\u001b[1;32m     11\u001b[0m \u001b[0;32mimport\u001b[0m \u001b[0mrequests\u001b[0m\u001b[0;34m\u001b[0m\u001b[0;34m\u001b[0m\u001b[0m\n\u001b[0;32m---> 12\u001b[0;31m \u001b[0;32mimport\u001b[0m \u001b[0mpraw\u001b[0m\u001b[0;34m\u001b[0m\u001b[0;34m\u001b[0m\u001b[0m\n\u001b[0m\u001b[1;32m     13\u001b[0m \u001b[0;34m\u001b[0m\u001b[0m\n\u001b[1;32m     14\u001b[0m \u001b[0;34m\u001b[0m\u001b[0m\n",
      "\u001b[0;31mModuleNotFoundError\u001b[0m: No module named 'praw'"
     ]
    }
   ],
   "source": [
    "import os\n",
    "import pandas as pd\n",
    "import json\n",
    "import csv\n",
    "import time\n",
    "from dateutil.relativedelta import relativedelta\n",
    "import datetime \n",
    "from psaw import PushshiftAPI # https://github.com/dmarx/psaw\n",
    "from glob import glob\n",
    "import matplotlib\n",
    "import requests\n",
    "import praw\n",
    "\n",
    "\n"
   ]
  },
  {
   "cell_type": "code",
   "execution_count": 2,
   "metadata": {},
   "outputs": [
    {
     "ename": "NameError",
     "evalue": "name 'praw' is not defined",
     "output_type": "error",
     "traceback": [
      "\u001b[0;31m---------------------------------------------------------------------------\u001b[0m",
      "\u001b[0;31mNameError\u001b[0m                                 Traceback (most recent call last)",
      "\u001b[0;32m<ipython-input-2-4fc66179be06>\u001b[0m in \u001b[0;36m<module>\u001b[0;34m\u001b[0m\n\u001b[0;32m----> 1\u001b[0;31m reddit = praw.Reddit(client_id=\"M5lv3Bhf_x9TNw\", client_secret=\"qiJ5mtjQlkElsJUCn6k_kf50M7c\",\\\n\u001b[0m\u001b[1;32m      2\u001b[0m                      \u001b[0muser_agent\u001b[0m\u001b[0;34m=\u001b[0m\u001b[0;34m\"python:script:v1 (by /u/thrownaway8yrsago)\"\u001b[0m\u001b[0;34m,\u001b[0m\u001b[0;31m\\\u001b[0m\u001b[0;34m\u001b[0m\u001b[0;34m\u001b[0m\u001b[0m\n\u001b[1;32m      3\u001b[0m                     \u001b[0muser\u001b[0m \u001b[0;34m=\u001b[0m \u001b[0;34m\"thrownaway8yrsago\"\u001b[0m\u001b[0;34m,\u001b[0m\u001b[0;31m\\\u001b[0m\u001b[0;34m\u001b[0m\u001b[0;34m\u001b[0m\u001b[0m\n\u001b[1;32m      4\u001b[0m                     password = \"yCzFsR7_Vu.Y\")\n\u001b[1;32m      5\u001b[0m \u001b[0;34m\u001b[0m\u001b[0m\n",
      "\u001b[0;31mNameError\u001b[0m: name 'praw' is not defined"
     ]
    }
   ],
   "source": [
    "reddit = praw.Reddit(client_id=\"M5lv3Bhf_x9TNw\", client_secret=\"qiJ5mtjQlkElsJUCn6k_kf50M7c\",\\\n",
    "                     user_agent=\"python:script:v1 (by /u/thrownaway8yrsago)\",\\\n",
    "                    user = \"thrownaway8yrsago\",\\\n",
    "                    password = \"yCzFsR7_Vu.Y\")\n",
    "\n",
    "new_ancillary = ['u_TRP_Scepter',\\\n",
    "                 'RedPillLit',\\\n",
    "                 'asktrp',\\\n",
    "                 'RedPillNonMonogamy',\\\n",
    "                 'RedPillWives',\\\n",
    "                 'redpillfatherhood',\\\n",
    "                 'redpillbooks',\\\n",
    "                 'RedPillWorkplace',\\\n",
    "                 'theRedPillLeft',\\\n",
    "                 'TRPmemes',\\\n",
    "                 'theredpillright',\\\n",
    "                 'EthnicRedPill',\\\n",
    "                 'marriedredpill',\\\n",
    "                 'ThankTRP']"
   ]
  },
  {
   "cell_type": "code",
   "execution_count": 5,
   "metadata": {},
   "outputs": [
    {
     "name": "stdout",
     "output_type": "stream",
     "text": [
      "asktrp\n",
      "10000\n"
     ]
    },
    {
     "ename": "NameError",
     "evalue": "name 's' is not defined",
     "output_type": "error",
     "traceback": [
      "\u001b[0;31m---------------------------------------------------------------------------\u001b[0m",
      "\u001b[0;31mNameError\u001b[0m                                 Traceback (most recent call last)",
      "\u001b[0;32m<ipython-input-5-3ff9f70327c7>\u001b[0m in \u001b[0;36m<module>\u001b[0;34m\u001b[0m\n\u001b[1;32m     12\u001b[0m     \u001b[0mprint\u001b[0m\u001b[0;34m(\u001b[0m\u001b[0ms\u001b[0m\u001b[0;34m)\u001b[0m\u001b[0;34m\u001b[0m\u001b[0;34m\u001b[0m\u001b[0m\n\u001b[1;32m     13\u001b[0m     \u001b[0;31m# Get submissions\u001b[0m\u001b[0;34m\u001b[0m\u001b[0;34m\u001b[0m\u001b[0;34m\u001b[0m\u001b[0m\n\u001b[0;32m---> 14\u001b[0;31m     \u001b[0mall_scrape\u001b[0m\u001b[0;34m.\u001b[0m\u001b[0mcrawl_subreddit\u001b[0m\u001b[0;34m(\u001b[0m\u001b[0ms\u001b[0m\u001b[0;34m)\u001b[0m\u001b[0;34m\u001b[0m\u001b[0;34m\u001b[0m\u001b[0m\n\u001b[0m\u001b[1;32m     15\u001b[0m \u001b[0;34m\u001b[0m\u001b[0m\n\u001b[1;32m     16\u001b[0m \u001b[0;34m\u001b[0m\u001b[0m\n",
      "\u001b[0;32m~/Documents/Admin/yahb/Turing_Institute/trpred/all_scrape.py\u001b[0m in \u001b[0;36mcrawl_subreddit\u001b[0;34m(subreddit, max_submissions)\u001b[0m\n\u001b[1;32m     59\u001b[0m         \u001b[0;32mif\u001b[0m \u001b[0mlen\u001b[0m\u001b[0;34m(\u001b[0m\u001b[0mall_submissions\u001b[0m\u001b[0;34m)\u001b[0m \u001b[0;34m%\u001b[0m \u001b[0;36m10000\u001b[0m \u001b[0;34m==\u001b[0m \u001b[0;36m0\u001b[0m\u001b[0;34m:\u001b[0m \u001b[0;31m# to track progress for big pulls\u001b[0m\u001b[0;34m\u001b[0m\u001b[0;34m\u001b[0m\u001b[0m\n\u001b[1;32m     60\u001b[0m             \u001b[0mprint\u001b[0m\u001b[0;34m(\u001b[0m\u001b[0mlen\u001b[0m\u001b[0;34m(\u001b[0m\u001b[0mall_submissions\u001b[0m\u001b[0;34m)\u001b[0m\u001b[0;34m)\u001b[0m\u001b[0;34m\u001b[0m\u001b[0;34m\u001b[0m\u001b[0m\n\u001b[0;32m---> 61\u001b[0;31m             \u001b[0mfilename\u001b[0m \u001b[0;34m=\u001b[0m \u001b[0mstr\u001b[0m\u001b[0;34m(\u001b[0m\u001b[0msubreddit\u001b[0m\u001b[0;34m)\u001b[0m \u001b[0;34m+\u001b[0m \u001b[0;34m\"-submissions-asof-\"\u001b[0m \u001b[0;34m+\u001b[0m \u001b[0mstr\u001b[0m\u001b[0;34m(\u001b[0m\u001b[0mtoday\u001b[0m\u001b[0;34m)\u001b[0m \u001b[0;34m+\u001b[0m \u001b[0;34m\".json\"\u001b[0m \u001b[0;31m# create filename\u001b[0m\u001b[0;34m\u001b[0m\u001b[0;34m\u001b[0m\u001b[0m\n\u001b[0m\u001b[1;32m     62\u001b[0m \u001b[0;34m\u001b[0m\u001b[0m\n\u001b[1;32m     63\u001b[0m             \u001b[0;32mwith\u001b[0m \u001b[0mopen\u001b[0m\u001b[0;34m(\u001b[0m\u001b[0mfilename\u001b[0m\u001b[0;34m,\u001b[0m \u001b[0;34m'w'\u001b[0m\u001b[0;34m,\u001b[0m \u001b[0mencoding\u001b[0m\u001b[0;34m=\u001b[0m\u001b[0;34m'utf-8'\u001b[0m\u001b[0;34m)\u001b[0m \u001b[0;32mas\u001b[0m \u001b[0mf\u001b[0m\u001b[0;34m:\u001b[0m \u001b[0;31m# write file\u001b[0m\u001b[0;34m\u001b[0m\u001b[0;34m\u001b[0m\u001b[0m\n",
      "\u001b[0;31mNameError\u001b[0m: name 's' is not defined"
     ]
    }
   ],
   "source": [
    "## Data collection of new ancillary subreddits\n",
    "\n",
    "import all_scrape\n",
    "\n",
    "# Get date\n",
    "today = datetime.datetime.utcnow().date()\n",
    "\n",
    "# new_ancillary is a list that contains that new subreddits to scrape\n",
    "\n",
    "## Submissions ##\n",
    "for s in new_ancillary[2:]: # started at index 2 (asktrp) bc of bug that was corrected\n",
    "    print(s)\n",
    "    # Get submissions\n",
    "    all_scrape.crawl_subreddit(s)\n",
    "\n",
    "\n",
    "        \n"
   ]
  },
  {
   "cell_type": "code",
   "execution_count": 29,
   "metadata": {},
   "outputs": [
    {
     "ename": "NameError",
     "evalue": "name 'new_ancillary' is not defined",
     "output_type": "error",
     "traceback": [
      "\u001b[0;31m---------------------------------------------------------------------------\u001b[0m",
      "\u001b[0;31mNameError\u001b[0m                                 Traceback (most recent call last)",
      "\u001b[0;32m<ipython-input-29-dc8512c59279>\u001b[0m in \u001b[0;36m<module>\u001b[0;34m\u001b[0m\n\u001b[0;32m----> 1\u001b[0;31m \u001b[0mnew_ancillary\u001b[0m\u001b[0;34m[\u001b[0m\u001b[0;36m2\u001b[0m\u001b[0;34m:\u001b[0m\u001b[0;34m]\u001b[0m\u001b[0;34m\u001b[0m\u001b[0;34m\u001b[0m\u001b[0m\n\u001b[0m",
      "\u001b[0;31mNameError\u001b[0m: name 'new_ancillary' is not defined"
     ]
    }
   ],
   "source": [
    "new_ancillary[2:]"
   ]
  },
  {
   "cell_type": "markdown",
   "metadata": {},
   "source": [
    "# Getting sense of size for the candidate subreddits"
   ]
  },
  {
   "cell_type": "code",
   "execution_count": 5,
   "metadata": {},
   "outputs": [],
   "source": [
    "all_subred = [\"RedPillWomen\",\\\n",
    "                \"askTRP\",\\\n",
    "                \"RedPillParenting\",\\\n",
    "                \"thankTRP\",\\\n",
    "                \"RedPillLit\",\\\n",
    "                \"becomeaman\",\\\n",
    "                \"altTRP\",\\\n",
    "                \"GEOTRP\",\\\n",
    "                \"TRPOffTopic\",\\\n",
    "#                  \"u_TRP_Scepter\",\\ # this is a user, not a subreddit\n",
    "                \"RedPillNonMonogamy\",\\\n",
    "                \"RedPillWives\",\\\n",
    "                \"redpillfatherhood\",\\\n",
    "                \"redpillbooks\",\\\n",
    "                \"RedPillWorkplace\",\\\n",
    "                \"theRedPillLeft\",\\\n",
    "                \"TRPmemes\",\\\n",
    "                \"theredpillright\",\\\n",
    "                \"EthnicRedPill\",\\\n",
    "                \"marriedredpill\",\n",
    "                \"AskFeminists\", \"askseddit\", \"badwomensanatomy\",\\\n",
    "                \"Egalitarianism\", \"exredpill\", \"FeMRADebates\",\\\n",
    "                \"GEOTRP\", \"IncelsInAction\", \"IncelsWithoutHate\",\\\n",
    "                \"masculism\", \"MensRants\", \"MensRights\", \"mensrightslaw\",\\\n",
    "                \"MensRightsMeta\", \"MGTOW\", \"mgtowbooks\",\"MRActivism\",\n",
    "                \"NOMAAM\", \"pua\", \"PurplePillDebate\", \"seduction\",\\\n",
    "                \"Trufemcels\", \"fPUA\", \"100sets\",\\\n",
    "                \"askanincel\", \"LeftWingMaleAdvocates\", \"MRAmemes\", \"RedPillReadingGroup\",\\\n",
    "                \"RedPillScience\", \"WhereAreAllTheGoodMen\", \"KotakuInAction\",\\\n",
    "                \"TumblrInAction\", \"fappeningdiscussion\", \"BlackPillScience\",\\\n",
    "                \"MGTOW2\", \"MGTOWmusic\", \"IncelTears\",\"Braincels\"]\n",
    "\n",
    "## These all came from Ella's list; \n",
    "# need to sort and add to a new google sheet with sources; \n",
    "# then, run code [actually ran code on aug 11 -- see if data is ok]\n",
    "\n"
   ]
  },
  {
   "cell_type": "code",
   "execution_count": 15,
   "metadata": {},
   "outputs": [],
   "source": [
    "# Bound by dates of interest\n",
    "end = datetime.datetime.strptime('2018-09-01', '%Y-%m-%d').timestamp()\n",
    "\n",
    "\n",
    "start = datetime.datetime.strptime('2012-10-25', '%Y-%m-%d').timestamp()"
   ]
  },
  {
   "cell_type": "code",
   "execution_count": 18,
   "metadata": {},
   "outputs": [],
   "source": [
    "from numpy import nan\n",
    "\n",
    "# Get count of submissions per subreddit above\n",
    "subred_posts = {}\n",
    "\n",
    "# Get number of comments of all time (sanity check)\n",
    "for s in all_subred:\n",
    "    url = \"https://api.pushshift.io/reddit/search/submission/\"\n",
    "    queries = {\"subreddit\": s,\\\n",
    "                \"size\": 0,\\\n",
    "                \"aggs\" : \"subreddit\",\\\n",
    "              \"before\": end,\\\n",
    "              \"after\": start} \n",
    "\n",
    "    r = requests.get(url, params = queries)\n",
    "\n",
    "    # Get count (sanity check)\n",
    "    try: \n",
    "        count_posts = r.json()[\"aggs\"][\"subreddit\"][0][\"doc_count\"]\n",
    "        subred_posts[s] = count_posts\n",
    "    except: \n",
    "        subred_posts[s] = nan\n",
    "\n"
   ]
  },
  {
   "cell_type": "code",
   "execution_count": 17,
   "metadata": {},
   "outputs": [
    {
     "data": {
      "text/plain": [
       "'RedPillWomen'"
      ]
     },
     "execution_count": 17,
     "metadata": {},
     "output_type": "execute_result"
    }
   ],
   "source": [
    "s"
   ]
  },
  {
   "cell_type": "code",
   "execution_count": null,
   "metadata": {},
   "outputs": [],
   "source": [
    "subred_posts\n",
    "df_subred_posts = pd.DataFrame.from_dict(subred_posts, orient = \"index\", columns = [\"posts\"])\n",
    "df_subred_posts.index.name = 'subreddit'\n",
    "df_subred_posts.reset_index(inplace=True)\n"
   ]
  },
  {
   "cell_type": "code",
   "execution_count": null,
   "metadata": {},
   "outputs": [],
   "source": [
    "df_subred_posts"
   ]
  },
  {
   "cell_type": "code",
   "execution_count": null,
   "metadata": {},
   "outputs": [],
   "source": [
    "# Get count of comments per subreddit above\n",
    "subred_comments = {}\n",
    "\n",
    "# Get number of comments in all time (sanity check)\n",
    "for s in all_subred:\n",
    "    url = \"https://api.pushshift.io/reddit/search/comment/\"\n",
    "    queries = {\"subreddit\": s,\\\n",
    "                \"size\": 0,\\\n",
    "                \"aggs\" : \"subreddit\",\\\n",
    "              \"before\": end,\\\n",
    "              \"after\": start} \n",
    "\n",
    "    r = requests.get(url, params = queries)\n",
    "\n",
    "    # Get count (sanity check)\n",
    "    count_comments = r.json() # [\"aggs\"][\"subreddit\"][0][\"doc_count\"]\n",
    "\n",
    "#     subred_comments[s] = count_comments"
   ]
  },
  {
   "cell_type": "code",
   "execution_count": null,
   "metadata": {},
   "outputs": [],
   "source": [
    "subred_comments\n",
    "df_subred_comments = pd.DataFrame.from_dict(subred_comments, orient = \"index\", columns = [\"comments\"])\n",
    "df_subred_comments.index.name = 'subreddit'\n",
    "df_subred_comments.reset_index(inplace=True)"
   ]
  },
  {
   "cell_type": "code",
   "execution_count": null,
   "metadata": {},
   "outputs": [],
   "source": [
    "df_subred_comments"
   ]
  },
  {
   "cell_type": "code",
   "execution_count": null,
   "metadata": {},
   "outputs": [],
   "source": []
  }
 ],
 "metadata": {
  "kernelspec": {
   "display_name": "Python 3",
   "language": "python",
   "name": "python3"
  },
  "language_info": {
   "codemirror_mode": {
    "name": "ipython",
    "version": 3
   },
   "file_extension": ".py",
   "mimetype": "text/x-python",
   "name": "python",
   "nbconvert_exporter": "python",
   "pygments_lexer": "ipython3",
   "version": "3.7.3"
  }
 },
 "nbformat": 4,
 "nbformat_minor": 4
}
