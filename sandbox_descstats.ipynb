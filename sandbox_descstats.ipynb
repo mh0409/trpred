{
 "cells": [
  {
   "cell_type": "code",
   "execution_count": null,
   "metadata": {},
   "outputs": [],
   "source": [
    "# Load modules\n",
    "import os\n",
    "import pandas as pd\n",
    "import requests\n",
    "import json\n",
    "import csv\n",
    "import time\n",
    "from dateutil.relativedelta import relativedelta\n",
    "import datetime as dt\n",
    "from psaw import PushshiftAPI # https://github.com/dmarx/psaw\n",
    "from glob import glob\n"
   ]
  },
  {
   "cell_type": "markdown",
   "metadata": {},
   "source": [
    "# Submissions"
   ]
  },
  {
   "cell_type": "code",
   "execution_count": null,
   "metadata": {},
   "outputs": [],
   "source": [
    "# Load in data\n",
    "df_subs = pd.read_csv(\"data/processed/submissions/TheRedPill-submissions-2020-06-01.csv\")\n"
   ]
  },
  {
   "cell_type": "code",
   "execution_count": null,
   "metadata": {},
   "outputs": [],
   "source": [
    "# Clean up (drop text and old index column, make utc to date time)\n",
    "df_subs = df_subs.drop(['Unnamed: 0','selftext'], axis = 1)\n",
    "df_subs['created_date'] = pd.to_datetime(df_subs['created_utc'], unit = \"s\").dt.date "
   ]
  },
  {
   "cell_type": "markdown",
   "metadata": {},
   "source": [
    "## Quick stats"
   ]
  },
  {
   "cell_type": "code",
   "execution_count": null,
   "metadata": {},
   "outputs": [],
   "source": [
    "# Quick stats\n",
    "num_posts = len(df_subs)\n",
    "earliest_post = min(df_subs['created_date'])\n",
    "latest_post = max(df_subs['created_date'])"
   ]
  },
  {
   "cell_type": "code",
   "execution_count": null,
   "metadata": {
    "scrolled": true
   },
   "outputs": [],
   "source": [
    "print(\"# of posts: \"+ str(num_posts))\n",
    "print(\"earliest post: \" + str(earliest_post))\n",
    "print(\"latest post collected: \" + str(latest_post))"
   ]
  },
  {
   "cell_type": "markdown",
   "metadata": {},
   "source": [
    "## Authors"
   ]
  },
  {
   "cell_type": "code",
   "execution_count": null,
   "metadata": {},
   "outputs": [],
   "source": [
    "# Looking at authors\n",
    "top25_authors = df_subs.author.value_counts().nlargest(25)\n",
    "top25_authors\n",
    "\n",
    "unique_authors = set(df_subs.author)\n",
    "len(unique_authors)\n",
    "\n",
    "\n",
    "\n"
   ]
  },
  {
   "cell_type": "code",
   "execution_count": null,
   "metadata": {},
   "outputs": [],
   "source": [
    "# Get cumsum to see who's contributing\n",
    "df_authors = pd.DataFrame(df_subs.author.value_counts().sort_values())\n",
    "df_authors.index.name = 'author_name'\n",
    "df_authors.reset_index(inplace=True)\n",
    "df_authors['cum_sum'] = df_authors['author'].cumsum()\n",
    "df_authors['cum_perc'] = df_authors['cum_sum']/df_authors['author'].sum()\n",
    "\n",
    "# Deleted prevalence\n",
    "deleted_count = df_authors['author'][df_authors['author_name'] == \"[deleted]\"].to_numpy()\n",
    "deleted_perc = deleted_count/len(df_subs)                                            \n",
    "deleted_perc = round(deleted_perc[0], 2)                                             \n",
    "\n",
    "\n"
   ]
  },
  {
   "cell_type": "code",
   "execution_count": null,
   "metadata": {},
   "outputs": [],
   "source": [
    "top_contributors = df_authors[df_authors['cum_perc'] > 0.5]\n"
   ]
  },
  {
   "cell_type": "code",
   "execution_count": null,
   "metadata": {},
   "outputs": [],
   "source": [
    "print(\"this many users make up 50% of posts: \"\\\n",
    "      + str(len(df_authors[df_authors['cum_perc'] > 0.5])))\n",
    "print(\"this many users make up 40% of posts: \"+ str(len(df_authors[df_authors['cum_perc'] > 0.60])))\n",
    "print(\"deleted posts are this % of all posts: \" + str(round(deleted_perc*100,2)))\n",
    "\n",
    "\n"
   ]
  },
  {
   "cell_type": "markdown",
   "metadata": {},
   "source": [
    "## Coverage"
   ]
  },
  {
   "cell_type": "code",
   "execution_count": null,
   "metadata": {},
   "outputs": [],
   "source": [
    "import matplotlib.pyplot as plt\n",
    "\n",
    "# Plot submissions\n",
    "plot_submissions = df_subs.groupby('created_date').id.count().plot()\n",
    "plt.plot()\n",
    "plt.savefig('trp_posts.png', bbox_inches='tight')"
   ]
  },
  {
   "cell_type": "code",
   "execution_count": null,
   "metadata": {},
   "outputs": [],
   "source": [
    "# Explore to see what happend end of 2018\n",
    "grouped_by_date = pd.DataFrame(df_subs.groupby('created_date').id.count())\n",
    "grouped_by_date.index.name = 'date'\n",
    "grouped_by_date.reset_index(inplace = True)\n",
    "grouped_by_date = grouped_by_date.rename(columns={\"id\": \"count\"})"
   ]
  },
  {
   "cell_type": "code",
   "execution_count": null,
   "metadata": {},
   "outputs": [],
   "source": [
    "# See if there are dates where there were no posts\n",
    "from datetime import date, timedelta\n",
    "\n",
    "d = grouped_by_date['date'].tolist()\n",
    "date_set = set(min(grouped_by_date['date']) + timedelta(x) for x in range((max(grouped_by_date['date']) - min(grouped_by_date['date'])).days))\n",
    "missing_dates = set(d).difference(set(date_set))\n",
    "missing_dates\n",
    "# seems like all dates are in there? double check? t"
   ]
  },
  {
   "cell_type": "code",
   "execution_count": null,
   "metadata": {},
   "outputs": [],
   "source": [
    "# Get dates where count = 1 \n",
    "grouped_by_date.loc[grouped_by_date['count'] == 1, 'date']"
   ]
  },
  {
   "cell_type": "code",
   "execution_count": null,
   "metadata": {},
   "outputs": [],
   "source": [
    "grouped_by_date.loc[grouped_by_date['count'] == 1, 'date']"
   ]
  },
  {
   "cell_type": "code",
   "execution_count": 2,
   "metadata": {},
   "outputs": [],
   "source": [
    "import requests\n",
    "\n",
    "url = \"https://api.pushshift.io/reddit/search/submission\"\n",
    "\n",
    "# Get before feb 2019 and after june 2018 (eyeballing from graph)\n",
    "test = requests.get(url, params = {\"subreddit\": \"TheRedPill\", \"size\": 0, \"aggs\" : \"subreddit\", \"before\": 1548979200, \"after\": 1538179200}).json()[\"aggs\"]\n",
    "# 62 posts from Sept 29 2018 to Feb 2019 -- so something with reddit was happening here\n",
    "# is there a way to look manually?\n"
   ]
  },
  {
   "cell_type": "code",
   "execution_count": 7,
   "metadata": {},
   "outputs": [
    {
     "data": {
      "text/plain": [
       "62"
      ]
     },
     "execution_count": 7,
     "metadata": {},
     "output_type": "execute_result"
    }
   ],
   "source": [
    "test[\"subreddit\"][0][\"doc_count\"]"
   ]
  },
  {
   "cell_type": "markdown",
   "metadata": {},
   "source": [
    "# Comments"
   ]
  },
  {
   "cell_type": "code",
   "execution_count": null,
   "metadata": {},
   "outputs": [],
   "source": [
    "# Load in data\n",
    "df_comments = pd.read_csv(\"data/processed/comments/TheRedPill-comments-2020-06-01.csv\")\n"
   ]
  },
  {
   "cell_type": "code",
   "execution_count": null,
   "metadata": {},
   "outputs": [],
   "source": [
    "# Clean up\n",
    "df_comments = df_comments.drop(['Unnamed: 0'], axis = 1)\n",
    "df_comments['created_date'] = pd.to_datetime(df_comments['created_utc'], unit = \"s\").dt.date "
   ]
  },
  {
   "cell_type": "code",
   "execution_count": null,
   "metadata": {},
   "outputs": [],
   "source": [
    "df_comments.sort_values(['created_date'])\n"
   ]
  },
  {
   "cell_type": "code",
   "execution_count": null,
   "metadata": {},
   "outputs": [],
   "source": [
    "# Quick stats\n",
    "num_comments = len(df_comments)\n",
    "earliest_comments = min(df_comments['created_date'])\n",
    "latest_comment = max(df_comments['created_date'])"
   ]
  },
  {
   "cell_type": "code",
   "execution_count": null,
   "metadata": {},
   "outputs": [],
   "source": [
    "print(\"# of comments: \"+ str(num_comments))\n",
    "print(\"earliest comment: \" + str(earliest_comments))\n",
    "print(\"latest comment collected: \" + str(latest_comment))"
   ]
  },
  {
   "cell_type": "markdown",
   "metadata": {},
   "source": [
    "## Authors"
   ]
  },
  {
   "cell_type": "code",
   "execution_count": null,
   "metadata": {},
   "outputs": [],
   "source": [
    "# Looking at authors\n",
    "top25_authors = df_comments.author.value_counts().nlargest(25)\n",
    "top25_authors\n",
    "\n",
    "unique_authors = set(df_comments.author)\n",
    "len(unique_authors)"
   ]
  },
  {
   "cell_type": "code",
   "execution_count": 206,
   "metadata": {},
   "outputs": [],
   "source": [
    "# Get cumsum to see who's contributing\n",
    "df_authors = pd.DataFrame(df_comments.author.value_counts().sort_values())\n",
    "\n",
    "# Make index its own column\n",
    "df_authors.index.name = 'author_name'\n",
    "df_authors.reset_index(inplace = True)\n",
    "\n",
    "# Rename column to count \n",
    "df_authors = df_authors.rename(columns={\"author\": \"count\"})\n",
    "df_authors = df_authors.sort_values(['count'])\n",
    "df_authors['cum_sum'] = df_authors['count'].cumsum()\n",
    "df_authors['cum_perc'] = df_authors['cum_sum']/df_authors['count'].sum()\n",
    "\n",
    "# Get count of deleted comments\n",
    "deleted_comments = df_authors['count'][df_authors['author_name'] == \"[deleted]\"].to_numpy()[0]\n",
    "perc_deleted = (deleted_comments/num_comments)*100"
   ]
  },
  {
   "cell_type": "code",
   "execution_count": 1,
   "metadata": {},
   "outputs": [
    {
     "ename": "NameError",
     "evalue": "name 'df_authors' is not defined",
     "output_type": "error",
     "traceback": [
      "\u001b[0;31m---------------------------------------------------------------------------\u001b[0m",
      "\u001b[0;31mNameError\u001b[0m                                 Traceback (most recent call last)",
      "\u001b[0;32m<ipython-input-1-495741e0cc00>\u001b[0m in \u001b[0;36m<module>\u001b[0;34m\u001b[0m\n\u001b[0;32m----> 1\u001b[0;31m \u001b[0mdf_authors\u001b[0m\u001b[0;34m.\u001b[0m\u001b[0mauthor_name\u001b[0m\u001b[0;34m.\u001b[0m\u001b[0mhist\u001b[0m\u001b[0;34m(\u001b[0m\u001b[0;34m)\u001b[0m\u001b[0;34m\u001b[0m\u001b[0;34m\u001b[0m\u001b[0m\n\u001b[0m",
      "\u001b[0;31mNameError\u001b[0m: name 'df_authors' is not defined"
     ]
    }
   ],
   "source": [
    "df_authors.author_name.hist()"
   ]
  },
  {
   "cell_type": "code",
   "execution_count": 205,
   "metadata": {},
   "outputs": [
    {
     "data": {
      "text/html": [
       "<div>\n",
       "<style scoped>\n",
       "    .dataframe tbody tr th:only-of-type {\n",
       "        vertical-align: middle;\n",
       "    }\n",
       "\n",
       "    .dataframe tbody tr th {\n",
       "        vertical-align: top;\n",
       "    }\n",
       "\n",
       "    .dataframe thead th {\n",
       "        text-align: right;\n",
       "    }\n",
       "</style>\n",
       "<table border=\"1\" class=\"dataframe\">\n",
       "  <thead>\n",
       "    <tr style=\"text-align: right;\">\n",
       "      <th></th>\n",
       "      <th>author_name</th>\n",
       "      <th>count</th>\n",
       "      <th>cum_sum</th>\n",
       "      <th>cum_perc</th>\n",
       "    </tr>\n",
       "  </thead>\n",
       "  <tbody>\n",
       "    <tr>\n",
       "      <th>0</th>\n",
       "      <td>randallrandyrand</td>\n",
       "      <td>1</td>\n",
       "      <td>1</td>\n",
       "      <td>3.303038e-07</td>\n",
       "    </tr>\n",
       "    <tr>\n",
       "      <th>26439</th>\n",
       "      <td>monkeytoes77</td>\n",
       "      <td>1</td>\n",
       "      <td>2</td>\n",
       "      <td>6.606076e-07</td>\n",
       "    </tr>\n",
       "    <tr>\n",
       "      <th>26440</th>\n",
       "      <td>650nano</td>\n",
       "      <td>1</td>\n",
       "      <td>3</td>\n",
       "      <td>9.909114e-07</td>\n",
       "    </tr>\n",
       "    <tr>\n",
       "      <th>26441</th>\n",
       "      <td>bernedindigo</td>\n",
       "      <td>1</td>\n",
       "      <td>4</td>\n",
       "      <td>1.321215e-06</td>\n",
       "    </tr>\n",
       "    <tr>\n",
       "      <th>26442</th>\n",
       "      <td>suchacrisis</td>\n",
       "      <td>1</td>\n",
       "      <td>5</td>\n",
       "      <td>1.651519e-06</td>\n",
       "    </tr>\n",
       "    <tr>\n",
       "      <th>...</th>\n",
       "      <td>...</td>\n",
       "      <td>...</td>\n",
       "      <td>...</td>\n",
       "      <td>...</td>\n",
       "    </tr>\n",
       "    <tr>\n",
       "      <th>115481</th>\n",
       "      <td>MattyAnon</td>\n",
       "      <td>9688</td>\n",
       "      <td>2382369</td>\n",
       "      <td>7.869055e-01</td>\n",
       "    </tr>\n",
       "    <tr>\n",
       "      <th>115482</th>\n",
       "      <td>vengefully_yours</td>\n",
       "      <td>10262</td>\n",
       "      <td>2392631</td>\n",
       "      <td>7.902951e-01</td>\n",
       "    </tr>\n",
       "    <tr>\n",
       "      <th>115483</th>\n",
       "      <td>NeoreactionSafe</td>\n",
       "      <td>12479</td>\n",
       "      <td>2405110</td>\n",
       "      <td>7.944169e-01</td>\n",
       "    </tr>\n",
       "    <tr>\n",
       "      <th>115484</th>\n",
       "      <td>AutoModerator</td>\n",
       "      <td>15911</td>\n",
       "      <td>2421021</td>\n",
       "      <td>7.996724e-01</td>\n",
       "    </tr>\n",
       "    <tr>\n",
       "      <th>115485</th>\n",
       "      <td>[deleted]</td>\n",
       "      <td>606495</td>\n",
       "      <td>3027516</td>\n",
       "      <td>1.000000e+00</td>\n",
       "    </tr>\n",
       "  </tbody>\n",
       "</table>\n",
       "<p>115486 rows × 4 columns</p>\n",
       "</div>"
      ],
      "text/plain": [
       "             author_name   count  cum_sum      cum_perc\n",
       "0       randallrandyrand       1        1  3.303038e-07\n",
       "26439       monkeytoes77       1        2  6.606076e-07\n",
       "26440            650nano       1        3  9.909114e-07\n",
       "26441       bernedindigo       1        4  1.321215e-06\n",
       "26442        suchacrisis       1        5  1.651519e-06\n",
       "...                  ...     ...      ...           ...\n",
       "115481         MattyAnon    9688  2382369  7.869055e-01\n",
       "115482  vengefully_yours   10262  2392631  7.902951e-01\n",
       "115483   NeoreactionSafe   12479  2405110  7.944169e-01\n",
       "115484     AutoModerator   15911  2421021  7.996724e-01\n",
       "115485         [deleted]  606495  3027516  1.000000e+00\n",
       "\n",
       "[115486 rows x 4 columns]"
      ]
     },
     "execution_count": 205,
     "metadata": {},
     "output_type": "execute_result"
    }
   ],
   "source": [
    "df_authors"
   ]
  },
  {
   "cell_type": "code",
   "execution_count": null,
   "metadata": {},
   "outputs": [],
   "source": [
    "# Top 50% of commenters\n",
    "top_contributors = df_authors[df_authors['cum_perc'] > 0.5]\n",
    "len(top_contributors)"
   ]
  },
  {
   "cell_type": "code",
   "execution_count": null,
   "metadata": {},
   "outputs": [],
   "source": [
    "# Top 40% of commenters\n",
    "len(df_authors[df_authors['cum_perc'] > 0.6])\n",
    "\n",
    "# Top 30% of commenters\n",
    "len(df_authors[df_authors['cum_perc'] > 0.7])"
   ]
  },
  {
   "cell_type": "markdown",
   "metadata": {},
   "source": [
    "## Coverage"
   ]
  },
  {
   "cell_type": "code",
   "execution_count": null,
   "metadata": {},
   "outputs": [],
   "source": [
    "# from visual analysis of plot, seem to be a \n",
    "# hole in early 2019, though this doesn't seem to be same hole seen in submissions"
   ]
  }
 ],
 "metadata": {
  "kernelspec": {
   "display_name": "Python 3",
   "language": "python",
   "name": "python3"
  },
  "language_info": {
   "codemirror_mode": {
    "name": "ipython",
    "version": 3
   },
   "file_extension": ".py",
   "mimetype": "text/x-python",
   "name": "python",
   "nbconvert_exporter": "python",
   "pygments_lexer": "ipython3",
   "version": "3.7.3"
  }
 },
 "nbformat": 4,
 "nbformat_minor": 4
}
