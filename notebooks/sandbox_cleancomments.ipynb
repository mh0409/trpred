{
 "cells": [
  {
   "cell_type": "code",
   "execution_count": 129,
   "metadata": {},
   "outputs": [],
   "source": [
    "import pandas as pd\n",
    "import re\n",
    "import datetime as dt\n",
    "import csv\n",
    "from os import listdir\n",
    "from os.path import isfile, join\n",
    "\n",
    "\n",
    "# Start date = date that r/trp was created\n",
    "start = dt.datetime.strptime('2012-10-25', '%Y-%m-%d').date()\n",
    "\n",
    "# End date = date that r/trp was quarantined\n",
    "end = dt.datetime.strptime('2018-09-01', '%Y-%m-%d').date()\n",
    "\n",
    "def clean_comments(subreddit_folder):\n",
    "    \"\"\"Cleans the file passed in as the first argument based on data type.\n",
    "    Returns the column headers we can expect to see in the saved file.\"\"\"\n",
    "\n",
    "    ## MAYBE REPLACE subreddit_folderS WITH SUBREDDIT AND MOVE GLOB INTO HERE\n",
    "    ## or split into clean comments and clean submissions since comments are so much bigger\n",
    "\n",
    "\n",
    "    # Get date for subreddit_folder\n",
    "    today = dt.datetime.utcnow().date()\n",
    "\n",
    "    regex = r\"([^\\/]+)(?=\\-all)\"\n",
    "    matches = re.search(regex, subreddit_folder)\n",
    "    new_file = matches.group()\n",
    "    \n",
    "    # Comment files\n",
    "    comment_files = [f for f in listdir(subreddit_folder) if isfile(join(subreddit_folder, f))]\n",
    "\n",
    "    \n",
    "    \n",
    "    # Create list of columns to keep\n",
    "    keep_cols = ['id', 'created_utc','author',\\\n",
    "                  'author_flair_text', 'score', 'parent_id',\\\n",
    "                  'subreddit']\n",
    "    keep_cols_text = ['id', 'created_utc', 'parent_id', 'body']\n",
    "\n",
    "    # Create file name\n",
    "    processedfile_csv = \"data/processed/comments/\" + new_file + \\\n",
    "        \"-metadata\" +  \".csv\"\n",
    "\n",
    "    processed_textfile_csv = \"data/processed/comments/\" + new_file + \\\n",
    "        \"-text\" + \".csv\"\n",
    "\n",
    "\n",
    "    df_keep = pd.DataFrame()\n",
    "    df_keep_text = pd.DataFrame()\n",
    "\n",
    "    counter = 0\n",
    "    \n",
    "    # Read in json file\n",
    "    for i in comment_files: \n",
    "        counter += 1\n",
    "    \n",
    "        file_path = subreddit_folder + \"/\" + i\n",
    "        \n",
    "        try:\n",
    "            data = pd.read_json(file_path)\n",
    "\n",
    "        # ValueError: Trailing data thrown if file is pretty indented\n",
    "        except ValueError:\n",
    "            data = pd.read_json(file_path, lines = True)\n",
    "\n",
    "        try:\n",
    "            df_keep = df_keep.append(data[keep_cols])\n",
    "        except KeyError:\n",
    "            keep_cols = ['id', 'created_utc', 'author', 'title',\\\n",
    "                        'score', 'num_comments', 'subreddit']\n",
    "            df_keep = df_keep.append(data[keep_cols])\n",
    "\n",
    "        try:\n",
    "            df_keep_text = df_keep_text.append(data[keep_cols_text])\n",
    "        except KeyError:\n",
    "            keep_cols_text = ['id', 'created_utc', 'author']\n",
    "            df_keep_text = df_keep_text.append(data[keep_cols_text])\n",
    "        \n",
    "        # Make sure there's at least 1 observation\n",
    "        observations = len(df_keep)\n",
    "    \n",
    "        # Change date format\n",
    "        ## For metadata\n",
    "        if observations == 0:\n",
    "            print(\"No comments found in \" + i)\n",
    "            continue\n",
    "            \n",
    "        else:\n",
    "            df_keep['datetime_dv'] = pd.to_datetime(df_keep['created_utc'], unit = 's')# dv = derived\n",
    "            df_keep['date_dv'] = df_keep['datetime_dv'].dt.date\n",
    "\n",
    "            # For text\n",
    "            df_keep_text['datetime_dv'] = pd.to_datetime(df_keep_text['created_utc'], unit = 's')# dv = derived\n",
    "            df_keep_text['date_dv'] = df_keep_text['datetime_dv'].dt.date\n",
    "\n",
    "\n",
    "        ##### Delimit by date #####\n",
    "        # TODO: break this out into different function\n",
    "        # Create mask of time slot\n",
    "        mask = (df_keep['date_dv'] >= start) & (df_keep['date_dv'] <= end) # inclusive on either end\n",
    "        mask_text = (df_keep_text['date_dv'] >= start) & (df_keep_text['date_dv'] <= end)\n",
    "\n",
    "        # Only keep data within date frame\n",
    "        df_keep = df_keep.loc[mask]\n",
    "        df_keep_text = df_keep_text.loc[mask_text]\n",
    "        ############################\n",
    "\n",
    "\n",
    "        # Save to csv\n",
    "        if counter == 1: \n",
    "            df_keep.to_csv(processedfile_csv, mode = \"a\") \n",
    "            df_keep_text.to_csv(processed_textfile_csv, mode = \"a\")\n",
    "            \n",
    "        else:\n",
    "            df_keep.to_csv(processedfile_csv, mode = \"a\", header = False) \n",
    "            df_keep_text.to_csv(processed_textfile_csv, mode = \"a\", header = False)            \n",
    "        \n",
    "#         df_keep = []\n",
    "#         df_keep_text = []\n",
    "\n",
    "\n",
    "    return keep_cols\n",
    "\n",
    "## TODO: update so that i'm adding to comment file in the same way i scrape it for the big r/TRP scrape\n",
    "# with open(processedfile_csv, 'a', encoding = 'utf-8') as fp:\n",
    "#         json.dump(obj.d_, fp, ensure_ascii = False) # write file\n",
    "#         fp.write('\\n')\n"
   ]
  },
  {
   "cell_type": "code",
   "execution_count": 5,
   "metadata": {},
   "outputs": [],
   "source": [
    "# Create subdirectory for each subreddit\n",
    "\n",
    "## Step 1: Get names for new folders\n",
    "from glob import glob\n",
    "comment_files = glob(\"data/raw/comments/*.json\")\n",
    "\n",
    "regex = r\"([^\\/]+)(?=\\.json$)\"\n",
    "\n",
    "filenames = []\n",
    "\n",
    "for i in comment_files:\n",
    "    matches = re.search(regex, i)\n",
    "    new_file = matches.group()\n",
    "    filenames.append(new_file)"
   ]
  },
  {
   "cell_type": "code",
   "execution_count": 6,
   "metadata": {},
   "outputs": [
    {
     "data": {
      "text/plain": [
       "['EthnicRedPill-allcomments-2020-08-20',\n",
       " 'RedPillParenting-allcomments-2020-08-20',\n",
       " 'GEOTRP-allcomments-2020-08-20',\n",
       " 'FeMRADebates-allcomments-2020-08-20',\n",
       " 'NOMAAM-allcomments-2020-08-21',\n",
       " 'MensRights-allcomments-2020-08-20',\n",
       " 'Egalitarianism-allcomments-2020-08-20',\n",
       " 'AskFeminists-allcomments-2020-08-20',\n",
       " 'MGTOW-allcomments-2020-08-20',\n",
       " 'TRPOffTopic-allcomments-2020-08-20',\n",
       " 'RedPillNonMonogamy-allcomments-2020-08-20',\n",
       " 'askseddit-allcomments-2020-08-20',\n",
       " 'badwomensanatomy-allcomments-2020-08-20',\n",
       " 'TRPmemes-allcomments-2020-08-20',\n",
       " 'IncelsWithoutHate-allcomments-2020-08-20',\n",
       " 'RedPillLit-allcomments-2020-08-20',\n",
       " 'MRActivism-allcomments-2020-08-21',\n",
       " 'altTRP-allcomments-2020-08-20',\n",
       " 'marriedredpill-allcomments-2020-08-20',\n",
       " 'PurplePillDebate-allcomments-2020-08-21',\n",
       " 'askTRP-allcomments-2020-08-19',\n",
       " 'seduction-allcomments-2020-08-21',\n",
       " 'Trufemcels-allcomments-2020-08-22',\n",
       " 'mgtowbooks-allcomments-2020-08-21',\n",
       " 'redpillfatherhood-allcomments-2020-08-20',\n",
       " 'theRedPillLeft-allcomments-2020-08-20',\n",
       " 'pua-allcomments-2020-08-21',\n",
       " 'thankTRP-allcomments-2020-08-20',\n",
       " 'RedPillWorkplace-allcomments-2020-08-20',\n",
       " 'mensrightslaw-allcomments-2020-08-20']"
      ]
     },
     "execution_count": 6,
     "metadata": {},
     "output_type": "execute_result"
    }
   ],
   "source": [
    "filenames"
   ]
  },
  {
   "cell_type": "code",
   "execution_count": 11,
   "metadata": {},
   "outputs": [
    {
     "name": "stdout",
     "output_type": "stream",
     "text": [
      "Successfully created the directory data/raw/comments/EthnicRedPill-allcomments-2020-08-20\n",
      "Successfully created the directory data/raw/comments/RedPillParenting-allcomments-2020-08-20\n",
      "Successfully created the directory data/raw/comments/GEOTRP-allcomments-2020-08-20\n",
      "Successfully created the directory data/raw/comments/FeMRADebates-allcomments-2020-08-20\n",
      "Successfully created the directory data/raw/comments/NOMAAM-allcomments-2020-08-21\n",
      "Successfully created the directory data/raw/comments/MensRights-allcomments-2020-08-20\n",
      "Successfully created the directory data/raw/comments/Egalitarianism-allcomments-2020-08-20\n",
      "Successfully created the directory data/raw/comments/AskFeminists-allcomments-2020-08-20\n",
      "Successfully created the directory data/raw/comments/MGTOW-allcomments-2020-08-20\n",
      "Successfully created the directory data/raw/comments/TRPOffTopic-allcomments-2020-08-20\n",
      "Successfully created the directory data/raw/comments/RedPillNonMonogamy-allcomments-2020-08-20\n",
      "Successfully created the directory data/raw/comments/askseddit-allcomments-2020-08-20\n",
      "Successfully created the directory data/raw/comments/badwomensanatomy-allcomments-2020-08-20\n",
      "Successfully created the directory data/raw/comments/TRPmemes-allcomments-2020-08-20\n",
      "Successfully created the directory data/raw/comments/IncelsWithoutHate-allcomments-2020-08-20\n",
      "Successfully created the directory data/raw/comments/RedPillLit-allcomments-2020-08-20\n",
      "Successfully created the directory data/raw/comments/MRActivism-allcomments-2020-08-21\n",
      "Successfully created the directory data/raw/comments/altTRP-allcomments-2020-08-20\n",
      "Successfully created the directory data/raw/comments/marriedredpill-allcomments-2020-08-20\n",
      "Successfully created the directory data/raw/comments/PurplePillDebate-allcomments-2020-08-21\n",
      "Successfully created the directory data/raw/comments/askTRP-allcomments-2020-08-19\n",
      "Successfully created the directory data/raw/comments/seduction-allcomments-2020-08-21\n",
      "Successfully created the directory data/raw/comments/Trufemcels-allcomments-2020-08-22\n",
      "Successfully created the directory data/raw/comments/mgtowbooks-allcomments-2020-08-21\n",
      "Successfully created the directory data/raw/comments/redpillfatherhood-allcomments-2020-08-20\n",
      "Successfully created the directory data/raw/comments/theRedPillLeft-allcomments-2020-08-20\n",
      "Successfully created the directory data/raw/comments/pua-allcomments-2020-08-21\n",
      "Successfully created the directory data/raw/comments/thankTRP-allcomments-2020-08-20\n",
      "Successfully created the directory data/raw/comments/RedPillWorkplace-allcomments-2020-08-20\n",
      "Successfully created the directory data/raw/comments/mensrightslaw-allcomments-2020-08-20\n"
     ]
    }
   ],
   "source": [
    "## Step 2: Create directories with file names\n",
    "import os\n",
    "\n",
    "# define the name of the directory to be created\n",
    "for i in filenames:\n",
    "    path = \"data/raw/comments/\" + i\n",
    "\n",
    "    try:\n",
    "        os.mkdir(path)\n",
    "    except OSError:\n",
    "        print (\"Creation of the directory %s failed\" % path)\n",
    "    else:\n",
    "        print (\"Successfully created the directory %s\" % path)"
   ]
  },
  {
   "cell_type": "code",
   "execution_count": 10,
   "metadata": {
    "scrolled": true
   },
   "outputs": [
    {
     "data": {
      "text/plain": [
       "'/data/raw/comments/mensrightslaw-allcomments-2020-08-20'"
      ]
     },
     "execution_count": 10,
     "metadata": {},
     "output_type": "execute_result"
    }
   ],
   "source": [
    "path"
   ]
  },
  {
   "cell_type": "code",
   "execution_count": 121,
   "metadata": {},
   "outputs": [],
   "source": [
    "# Change working directory to external drive\n",
    "os.chdir(\"/Volumes/SAMSUNG/trpred\")\n",
    "\n",
    "from fsplit.filesplit import FileSplit\n",
    "\n",
    "# Function will tell you file name, size in bytes, and line count\n",
    "def func(f, s, c):\n",
    "    print(\"file: {0}, size: {1}, count: {2}\".format(f, s, c))"
   ]
  },
  {
   "cell_type": "code",
   "execution_count": 27,
   "metadata": {},
   "outputs": [],
   "source": [
    "## Step 3: Split files into corresponding folder\n",
    "for i in filenames:\n",
    "    file_path = \"data/raw/comments/\" + i + \".json\"\n",
    "    folder_path = \"data/raw/comments/\" + i + \"/\"\n",
    "    \n",
    "    dir = os.listdir(folder_path) \n",
    "    \n",
    "    # If folder is empty (i.e. file hasn't been split yet)...\n",
    "    if len(dir) == 0:\n",
    "\n",
    "        # ...then split file \n",
    "        fs = FileSplit(file = file_path, splitsize = 15000000, output_dir = folder_path)\n",
    "\n",
    "        fs.split(callback = func)\n"
   ]
  },
  {
   "cell_type": "code",
   "execution_count": 53,
   "metadata": {},
   "outputs": [],
   "source": [
    "# Now clean every small file for all subreddit folders\n",
    "\n",
    "# Get folder names\n",
    "subreddit_folders = [x[0] for x in os.walk(\"data/raw/comments\")]\n",
    "subreddit_folders = subreddit_folders[1:]\n"
   ]
  },
  {
   "cell_type": "code",
   "execution_count": 122,
   "metadata": {},
   "outputs": [
    {
     "data": {
      "text/plain": [
       "['data/raw/comments/AskFeminists-allcomments-2020-08-20',\n",
       " 'data/raw/comments/Egalitarianism-allcomments-2020-08-20',\n",
       " 'data/raw/comments/EthnicRedPill-allcomments-2020-08-20',\n",
       " 'data/raw/comments/FeMRADebates-allcomments-2020-08-20',\n",
       " 'data/raw/comments/GEOTRP-allcomments-2020-08-20',\n",
       " 'data/raw/comments/IncelsWithoutHate-allcomments-2020-08-20',\n",
       " 'data/raw/comments/MGTOW-allcomments-2020-08-20',\n",
       " 'data/raw/comments/MRActivism-allcomments-2020-08-21',\n",
       " 'data/raw/comments/MensRights-allcomments-2020-08-20',\n",
       " 'data/raw/comments/NOMAAM-allcomments-2020-08-21',\n",
       " 'data/raw/comments/PurplePillDebate-allcomments-2020-08-21',\n",
       " 'data/raw/comments/RedPillLit-allcomments-2020-08-20',\n",
       " 'data/raw/comments/RedPillNonMonogamy-allcomments-2020-08-20',\n",
       " 'data/raw/comments/RedPillParenting-allcomments-2020-08-20',\n",
       " 'data/raw/comments/RedPillWorkplace-allcomments-2020-08-20',\n",
       " 'data/raw/comments/TRPOffTopic-allcomments-2020-08-20',\n",
       " 'data/raw/comments/TRPmemes-allcomments-2020-08-20',\n",
       " 'data/raw/comments/TheRedPill-allcomments',\n",
       " 'data/raw/comments/Trufemcels-allcomments-2020-08-22',\n",
       " 'data/raw/comments/altTRP-allcomments-2020-08-20',\n",
       " 'data/raw/comments/askTRP-allcomments-2020-08-19',\n",
       " 'data/raw/comments/askseddit-allcomments-2020-08-20',\n",
       " 'data/raw/comments/badwomensanatomy-allcomments-2020-08-20',\n",
       " 'data/raw/comments/marriedredpill-allcomments-2020-08-20',\n",
       " 'data/raw/comments/mensrightslaw-allcomments-2020-08-20',\n",
       " 'data/raw/comments/mgtowbooks-allcomments-2020-08-21',\n",
       " 'data/raw/comments/pua-allcomments-2020-08-21',\n",
       " 'data/raw/comments/redpillfatherhood-allcomments-2020-08-20',\n",
       " 'data/raw/comments/seduction-allcomments-2020-08-21',\n",
       " 'data/raw/comments/thankTRP-allcomments-2020-08-20',\n",
       " 'data/raw/comments/theRedPillLeft-allcomments-2020-08-20']"
      ]
     },
     "execution_count": 122,
     "metadata": {},
     "output_type": "execute_result"
    }
   ],
   "source": [
    "subreddit_folders"
   ]
  },
  {
   "cell_type": "code",
   "execution_count": 142,
   "metadata": {
    "slideshow": {
     "slide_type": "-"
    }
   },
   "outputs": [
    {
     "name": "stdout",
     "output_type": "stream",
     "text": [
      "data/raw/comments/thankTRP-allcomments-2020-08-20 complete\n",
      "data/raw/comments/theRedPillLeft-allcomments-2020-08-20 complete\n"
     ]
    }
   ],
   "source": [
    "for i in subreddit_folders[29:]:\n",
    "    # Pass in folder name to method\n",
    "    clean_comments(i)\n",
    "    print(i + \" complete\")\n",
    "    \n",
    "## Need to go back to r/TRP raw comments and see why they was a UnicodeDecodeError??? \n",
    "## r/seduction as well"
   ]
  },
  {
   "cell_type": "code",
   "execution_count": 141,
   "metadata": {},
   "outputs": [
    {
     "data": {
      "text/plain": [
       "['data/raw/comments/thankTRP-allcomments-2020-08-20',\n",
       " 'data/raw/comments/theRedPillLeft-allcomments-2020-08-20']"
      ]
     },
     "execution_count": 141,
     "metadata": {},
     "output_type": "execute_result"
    }
   ],
   "source": [
    "subreddit_folders[29:]"
   ]
  },
  {
   "cell_type": "code",
   "execution_count": null,
   "metadata": {},
   "outputs": [],
   "source": []
  }
 ],
 "metadata": {
  "celltoolbar": "Aucun(e)",
  "kernelspec": {
   "display_name": "Python 3",
   "language": "python",
   "name": "python3"
  },
  "language_info": {
   "codemirror_mode": {
    "name": "ipython",
    "version": 3
   },
   "file_extension": ".py",
   "mimetype": "text/x-python",
   "name": "python",
   "nbconvert_exporter": "python",
   "pygments_lexer": "ipython3",
   "version": "3.7.6"
  }
 },
 "nbformat": 4,
 "nbformat_minor": 4
}
